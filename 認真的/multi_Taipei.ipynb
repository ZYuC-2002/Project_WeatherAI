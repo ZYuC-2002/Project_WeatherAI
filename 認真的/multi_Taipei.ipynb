{
 "cells": [
  {
   "cell_type": "markdown",
   "metadata": {},
   "source": [
    "# [Predicting the price of Bitcoin with multivariate Pytorch LSTMs - revise](https://charlieoneill.medium.com/predicting-the-price-of-bitcoin-with-multivariate-pytorch-lstms-695bc294130)"
   ]
  },
  {
   "cell_type": "code",
   "execution_count": 6,
   "metadata": {},
   "outputs": [],
   "source": [
    "'''Train with PyTorch.'''\n",
    "# PyTorch\n",
    "import torch\n",
    "import torch.nn as nn\n",
    "import torch.optim as optim\n",
    "from torch.utils.data import DataLoader\n",
    "from torch.utils.data.dataset import random_split\n",
    "import torch.utils.data as data\n",
    "\n",
    "# SciKit\n",
    "from sklearn.preprocessing import MinMaxScaler, StandardScaler\n",
    "\n",
    "# Python\n",
    "import pandas as pd\n",
    "import numpy as np\n",
    "import os\n",
    "import time"
   ]
  },
  {
   "cell_type": "code",
   "execution_count": 2,
   "metadata": {},
   "outputs": [
    {
     "data": {
      "text/html": [
       "<div>\n",
       "<style scoped>\n",
       "    .dataframe tbody tr th:only-of-type {\n",
       "        vertical-align: middle;\n",
       "    }\n",
       "\n",
       "    .dataframe tbody tr th {\n",
       "        vertical-align: top;\n",
       "    }\n",
       "\n",
       "    .dataframe thead th {\n",
       "        text-align: right;\n",
       "    }\n",
       "</style>\n",
       "<table border=\"1\" class=\"dataframe\">\n",
       "  <thead>\n",
       "    <tr style=\"text-align: right;\">\n",
       "      <th></th>\n",
       "      <th>觀測時間(hour)</th>\n",
       "      <th>氣溫(℃)</th>\n",
       "      <th>相對溼度(%)</th>\n",
       "      <th>露點溫度(℃)</th>\n",
       "      <th>測站氣壓(hPa)</th>\n",
       "    </tr>\n",
       "  </thead>\n",
       "  <tbody>\n",
       "    <tr>\n",
       "      <th>0</th>\n",
       "      <td>2010/1/1 00:00</td>\n",
       "      <td>13.7</td>\n",
       "      <td>69.0</td>\n",
       "      <td>8.2</td>\n",
       "      <td>1021.8</td>\n",
       "    </tr>\n",
       "    <tr>\n",
       "      <th>1</th>\n",
       "      <td>2010/1/1 01:00</td>\n",
       "      <td>13.8</td>\n",
       "      <td>69.0</td>\n",
       "      <td>8.3</td>\n",
       "      <td>1021.4</td>\n",
       "    </tr>\n",
       "    <tr>\n",
       "      <th>2</th>\n",
       "      <td>2010/1/1 02:00</td>\n",
       "      <td>13.9</td>\n",
       "      <td>69.0</td>\n",
       "      <td>8.4</td>\n",
       "      <td>1020.4</td>\n",
       "    </tr>\n",
       "    <tr>\n",
       "      <th>3</th>\n",
       "      <td>2010/1/1 03:00</td>\n",
       "      <td>13.9</td>\n",
       "      <td>69.0</td>\n",
       "      <td>8.4</td>\n",
       "      <td>1019.9</td>\n",
       "    </tr>\n",
       "    <tr>\n",
       "      <th>4</th>\n",
       "      <td>2010/1/1 04:00</td>\n",
       "      <td>14.0</td>\n",
       "      <td>69.0</td>\n",
       "      <td>8.5</td>\n",
       "      <td>1019.6</td>\n",
       "    </tr>\n",
       "  </tbody>\n",
       "</table>\n",
       "</div>"
      ],
      "text/plain": [
       "       觀測時間(hour)  氣溫(℃)  相對溼度(%)  露點溫度(℃)  測站氣壓(hPa)\n",
       "0  2010/1/1 00:00   13.7     69.0      8.2     1021.8\n",
       "1  2010/1/1 01:00   13.8     69.0      8.3     1021.4\n",
       "2  2010/1/1 02:00   13.9     69.0      8.4     1020.4\n",
       "3  2010/1/1 03:00   13.9     69.0      8.4     1019.9\n",
       "4  2010/1/1 04:00   14.0     69.0      8.5     1019.6"
      ]
     },
     "execution_count": 2,
     "metadata": {},
     "output_type": "execute_result"
    }
   ],
   "source": [
    "df = pd.read_csv('./station/466920taipei_train.csv')\n",
    "df = df[[\"觀測時間(hour)\", \"氣溫(℃)\", \"相對溼度(%)\", \"露點溫度(℃)\", \"測站氣壓(hPa)\"]]\n",
    "df.head()"
   ]
  },
  {
   "cell_type": "code",
   "execution_count": 8,
   "metadata": {},
   "outputs": [
    {
     "data": {
      "text/plain": [
       "((96360, 3), (96360, 1))"
      ]
     },
     "execution_count": 8,
     "metadata": {},
     "output_type": "execute_result"
    }
   ],
   "source": [
    "features = df[[\"相對溼度(%)\", \"露點溫度(℃)\", \"測站氣壓(hPa)\"]]\n",
    "targets = df[[\"氣溫(℃)\"]].values\n",
    "\n",
    "features.shape, targets.shape"
   ]
  },
  {
   "cell_type": "code",
   "execution_count": 9,
   "metadata": {},
   "outputs": [],
   "source": [
    "mm = MinMaxScaler()\n",
    "ss = StandardScaler()\n",
    "\n",
    "features_trans = ss.fit_transform(features)\n",
    "targets_trans = mm.fit_transform(targets.reshape(-1, 1))"
   ]
  },
  {
   "cell_type": "code",
   "execution_count": 10,
   "metadata": {},
   "outputs": [
    {
     "name": "stdout",
     "output_type": "stream",
     "text": [
      "(96212, 100, 3) (96212, 50)\n"
     ]
    }
   ],
   "source": [
    "def split_sequences(input_sequences, output_sequence, n_steps_in, n_steps_out):\n",
    "    \n",
    "    features, targets = list(), list()\n",
    "    \n",
    "    for i in range(len(input_sequences)):\n",
    "        \n",
    "        # find the end of the input, output sequence\n",
    "        end_ix = i + n_steps_in\n",
    "        out_end_ix = end_ix + n_steps_out - 1\n",
    "\n",
    "        # check if we are beyond the dataset\n",
    "        if out_end_ix > len(input_sequences): break\n",
    "\n",
    "        # gather input and output of the pattern\n",
    "        seq_x, seq_y = input_sequences[i:end_ix], output_sequence[end_ix-1:out_end_ix, -1]\n",
    "        features.append(seq_x), targets.append(seq_y)\n",
    "\n",
    "    return np.array(features), np.array(targets)\n",
    "\n",
    "features_ss, targets_mm = split_sequences(features_trans, targets_trans, 100, 50)  # 100跟50不知道是什麼意思\n",
    "print(features_ss.shape, targets_mm.shape)"
   ]
  },
  {
   "cell_type": "code",
   "execution_count": 15,
   "metadata": {},
   "outputs": [
    {
     "data": {
      "text/plain": [
       "array([0.3591954 , 0.35344828, 0.33333333, 0.32183908, 0.31034483,\n",
       "       0.29022989, 0.28448276, 0.29310345, 0.29310345, 0.31609195,\n",
       "       0.32758621, 0.30747126, 0.30172414, 0.29310345, 0.28448276,\n",
       "       0.28448276, 0.27298851, 0.27011494, 0.27298851, 0.27586207,\n",
       "       0.27873563, 0.29022989, 0.29597701, 0.29885057, 0.29885057,\n",
       "       0.29310345, 0.29597701, 0.28735632, 0.29022989, 0.29597701,\n",
       "       0.29310345, 0.29022989, 0.29310345, 0.30172414, 0.3045977 ,\n",
       "       0.3045977 , 0.3045977 , 0.30172414, 0.29310345, 0.28448276,\n",
       "       0.2816092 , 0.2816092 , 0.2816092 , 0.28735632, 0.27586207,\n",
       "       0.27298851, 0.27011494, 0.27011494, 0.26724138, 0.27011494])"
      ]
     },
     "execution_count": 15,
     "metadata": {},
     "output_type": "execute_result"
    }
   ],
   "source": [
    "assert targets_mm[0].all() == targets_trans[99:149].squeeze(1).all()\n",
    "\n",
    "targets_mm[0]"
   ]
  },
  {
   "cell_type": "code",
   "execution_count": 16,
   "metadata": {},
   "outputs": [
    {
     "data": {
      "text/plain": [
       "array([0.3591954 , 0.35344828, 0.33333333, 0.32183908, 0.31034483,\n",
       "       0.29022989, 0.28448276, 0.29310345, 0.29310345, 0.31609195,\n",
       "       0.32758621, 0.30747126, 0.30172414, 0.29310345, 0.28448276,\n",
       "       0.28448276, 0.27298851, 0.27011494, 0.27298851, 0.27586207,\n",
       "       0.27873563, 0.29022989, 0.29597701, 0.29885057, 0.29885057,\n",
       "       0.29310345, 0.29597701, 0.28735632, 0.29022989, 0.29597701,\n",
       "       0.29310345, 0.29022989, 0.29310345, 0.30172414, 0.3045977 ,\n",
       "       0.3045977 , 0.3045977 , 0.30172414, 0.29310345, 0.28448276,\n",
       "       0.2816092 , 0.2816092 , 0.2816092 , 0.28735632, 0.27586207,\n",
       "       0.27298851, 0.27011494, 0.27011494, 0.26724138, 0.27011494])"
      ]
     },
     "execution_count": 16,
     "metadata": {},
     "output_type": "execute_result"
    }
   ],
   "source": [
    "targets_trans[99:149].squeeze(1)"
   ]
  },
  {
   "cell_type": "code",
   "execution_count": 18,
   "metadata": {},
   "outputs": [
    {
     "name": "stdout",
     "output_type": "stream",
     "text": [
      "Training Shape: (96062, 100, 3) (96062, 50)\n",
      "Testing Shape: (150, 100, 3) (150, 50)\n"
     ]
    }
   ],
   "source": [
    "total_samples = len(features)\n",
    "train_test_split = round(0.7 * total_samples)\n",
    "\n",
    "features_train = features_ss[:-150]\n",
    "features_test = features_ss[-150:]\n",
    "\n",
    "targets_train = targets_mm[:-150]\n",
    "targets_test = targets_mm[-150:]\n",
    "\n",
    "print(\"Training Shape:\", features_train.shape, targets_train.shape)\n",
    "print(\"Testing Shape:\", features_test.shape, targets_test.shape) "
   ]
  },
  {
   "cell_type": "code",
   "execution_count": 19,
   "metadata": {},
   "outputs": [],
   "source": [
    "from torch.autograd import Variable  # 导入torch中Variable模块\n",
    "\n",
    "# convert to pytorch tensors\n",
    "features_train_tensors = Variable(torch.Tensor(features_train))\n",
    "features_test_tensors = Variable(torch.Tensor(features_test))\n",
    "\n",
    "targets_train_tensors = Variable(torch.Tensor(targets_train))\n",
    "targets_test_tensors = Variable(torch.Tensor(targets_test))"
   ]
  },
  {
   "cell_type": "code",
   "execution_count": 20,
   "metadata": {},
   "outputs": [
    {
     "name": "stdout",
     "output_type": "stream",
     "text": [
      "Training Shape: torch.Size([96062, 100, 3]) torch.Size([96062, 50])\n",
      "Testing Shape: torch.Size([150, 100, 3]) torch.Size([150, 50])\n"
     ]
    }
   ],
   "source": [
    "# reshaping to rows, timestamps, features\n",
    "features_train_tensors_final = torch.reshape(features_train_tensors, \n",
    "                                      (features_train_tensors.shape[0], 100, \n",
    "                                       features_train_tensors.shape[2]))\n",
    "features_test_tensors_final = torch.reshape(features_test_tensors,  \n",
    "                                     (features_test_tensors.shape[0], 100, \n",
    "                                      features_test_tensors.shape[2])) \n",
    "\n",
    "print(\"Training Shape:\", features_train_tensors_final.shape, targets_train_tensors.shape)\n",
    "print(\"Testing Shape:\", features_test_tensors_final.shape, targets_test_tensors.shape) "
   ]
  }
 ],
 "metadata": {
  "kernelspec": {
   "display_name": "Python 3",
   "language": "python",
   "name": "python3"
  },
  "language_info": {
   "codemirror_mode": {
    "name": "ipython",
    "version": 3
   },
   "file_extension": ".py",
   "mimetype": "text/x-python",
   "name": "python",
   "nbconvert_exporter": "python",
   "pygments_lexer": "ipython3",
   "version": "3.10.0"
  }
 },
 "nbformat": 4,
 "nbformat_minor": 2
}
